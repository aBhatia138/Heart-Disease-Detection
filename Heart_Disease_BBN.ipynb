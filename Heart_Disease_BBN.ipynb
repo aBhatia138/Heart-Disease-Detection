{
 "cells": [
  {
   "cell_type": "code",
   "execution_count": 1,
   "id": "96529b0a",
   "metadata": {},
   "outputs": [],
   "source": [
    "import pandas as pd\n",
    "import matplotlib.pyplot as plt"
   ]
  },
  {
   "cell_type": "code",
   "execution_count": 2,
   "id": "43396097",
   "metadata": {},
   "outputs": [],
   "source": [
    "import networkx"
   ]
  },
  {
   "cell_type": "code",
   "execution_count": 3,
   "id": "476e9bbe",
   "metadata": {},
   "outputs": [],
   "source": [
    "from pgmpy.models import DiscreteBayesianNetwork"
   ]
  },
  {
   "cell_type": "code",
   "execution_count": 4,
   "id": "3d9c2be3",
   "metadata": {},
   "outputs": [],
   "source": [
    "df=pd.read_csv(\"C:\\\\Users\\\\Amoghaya\\\\Desktop\\\\Datasets\\\\Heart_Disease.csv\")"
   ]
  },
  {
   "cell_type": "code",
   "execution_count": 5,
   "id": "4ff693bf",
   "metadata": {},
   "outputs": [],
   "source": [
    "df=df.drop(columns=['id','dataset'])"
   ]
  },
  {
   "cell_type": "code",
   "execution_count": 6,
   "id": "c91a7dfb",
   "metadata": {},
   "outputs": [],
   "source": [
    "df['age']=pd.cut(df['age'],bins=[0,40,55,100],labels=[0,1,2])\n",
    "df['trestbps']=pd.cut(df['trestbps'],bins=[80,120,140,200],labels=[0,1,2])\n",
    "df['oldpeak']=pd.cut(df['oldpeak'],bins=[-1,1,3,10],labels=[0,1,2])\n",
    "df['chol']=pd.cut(df['chol'],bins=[0,201,402,603],labels=[0,1,2])\n",
    "df['thalch']=pd.cut(df['thalch'],bins=[60,107,154,202],labels=[0,1,2])"
   ]
  },
  {
   "cell_type": "code",
   "execution_count": 7,
   "id": "ba3f2a55",
   "metadata": {},
   "outputs": [],
   "source": [
    "df['cp']=pd.Categorical(df['cp']).codes\n",
    "df['sex']=pd.Categorical(df['sex']).codes\n",
    "df['restecg']=pd.Categorical(df['restecg']).codes\n",
    "df['fbs']=pd.Categorical(df['fbs']).codes\n",
    "df['thal']=pd.Categorical(df['thal']).codes\n",
    "df['exang']=pd.Categorical(df['exang']).codes\n",
    "df['slope']=pd.Categorical(df['slope']).codes\n",
    "df['ca']=pd.Categorical(df['ca']).codes"
   ]
  },
  {
   "cell_type": "code",
   "execution_count": 8,
   "id": "57d32b66",
   "metadata": {},
   "outputs": [],
   "source": [
    "df = df.fillna(df.mode().iloc[0])  # Safely fills NaNs\n",
    "df = df.astype(int)  # Now works since all values are numeric"
   ]
  },
  {
   "cell_type": "code",
   "execution_count": 9,
   "id": "5a6f3410",
   "metadata": {},
   "outputs": [],
   "source": [
    "model=DiscreteBayesianNetwork([\n",
    "    ('Age','HeartDisease'),\n",
    "    ('Cholestrol','HeartDisease'),\n",
    "    ('ChestPain','HeartDisease')\n",
    "])"
   ]
  },
  {
   "cell_type": "code",
   "execution_count": 10,
   "id": "6c0eeb68",
   "metadata": {},
   "outputs": [],
   "source": [
    "from pgmpy.estimators import HillClimbSearch"
   ]
  },
  {
   "cell_type": "code",
   "execution_count": 11,
   "id": "5c65c3a5",
   "metadata": {},
   "outputs": [],
   "source": [
    "from pgmpy.estimators import BDeu"
   ]
  },
  {
   "cell_type": "code",
   "execution_count": 12,
   "id": "e32cf33a",
   "metadata": {},
   "outputs": [
    {
     "name": "stderr",
     "output_type": "stream",
     "text": [
      "INFO:pgmpy: Datatype (N=numerical, C=Categorical Unordered, O=Categorical Ordered) inferred from data: \n",
      " {'age': 'N', 'sex': 'N', 'cp': 'N', 'trestbps': 'N', 'chol': 'N', 'fbs': 'N', 'restecg': 'N', 'thalch': 'N', 'exang': 'N', 'oldpeak': 'N', 'slope': 'N', 'ca': 'N', 'thal': 'N', 'num': 'N'}\n",
      "INFO:pgmpy: Datatype (N=numerical, C=Categorical Unordered, O=Categorical Ordered) inferred from data: \n",
      " {'age': 'N', 'sex': 'N', 'cp': 'N', 'trestbps': 'N', 'chol': 'N', 'fbs': 'N', 'restecg': 'N', 'thalch': 'N', 'exang': 'N', 'oldpeak': 'N', 'slope': 'N', 'ca': 'N', 'thal': 'N', 'num': 'N'}\n",
      "INFO:pgmpy: Datatype (N=numerical, C=Categorical Unordered, O=Categorical Ordered) inferred from data: \n",
      " {'age': 'N', 'sex': 'N', 'cp': 'N', 'trestbps': 'N', 'chol': 'N', 'fbs': 'N', 'restecg': 'N', 'thalch': 'N', 'exang': 'N', 'oldpeak': 'N', 'slope': 'N', 'ca': 'N', 'thal': 'N', 'num': 'N'}\n"
     ]
    },
    {
     "data": {
      "application/vnd.jupyter.widget-view+json": {
       "model_id": "2a1eb8f3172b42069bea29675932bae8",
       "version_major": 2,
       "version_minor": 0
      },
      "text/plain": [
       "  0%|          | 0/10000 [00:00<?, ?it/s]"
      ]
     },
     "metadata": {},
     "output_type": "display_data"
    }
   ],
   "source": [
    "est=HillClimbSearch(df)\n",
    "best_model=est.estimate(scoring_method=BDeu(df),max_iter=10000)"
   ]
  },
  {
   "cell_type": "code",
   "execution_count": 13,
   "id": "678a4c1e",
   "metadata": {},
   "outputs": [
    {
     "name": "stdout",
     "output_type": "stream",
     "text": [
      "[('age', 'trestbps'), ('sex', 'thal'), ('cp', 'num'), ('fbs', 'ca'), ('fbs', 'chol'), ('exang', 'cp'), ('exang', 'thalch'), ('exang', 'trestbps'), ('exang', 'num'), ('exang', 'oldpeak'), ('oldpeak', 'cp'), ('slope', 'oldpeak'), ('slope', 'ca'), ('slope', 'exang'), ('ca', 'thal'), ('ca', 'restecg'), ('ca', 'thalch'), ('num', 'sex'), ('num', 'age'), ('num', 'fbs')]\n"
     ]
    }
   ],
   "source": [
    "print(best_model.edges())"
   ]
  },
  {
   "cell_type": "code",
   "execution_count": 14,
   "id": "4e6cbca1",
   "metadata": {},
   "outputs": [],
   "source": [
    "from pgmpy.estimators import MaximumLikelihoodEstimator"
   ]
  },
  {
   "cell_type": "code",
   "execution_count": 15,
   "id": "9c7b8e29",
   "metadata": {},
   "outputs": [
    {
     "name": "stdout",
     "output_type": "stream",
     "text": [
      "['age', 'sex', 'cp', 'trestbps', 'chol', 'fbs', 'restecg', 'thalch', 'exang', 'oldpeak', 'slope', 'ca', 'thal', 'num']\n"
     ]
    }
   ],
   "source": [
    "print(df.columns.tolist())"
   ]
  },
  {
   "cell_type": "code",
   "execution_count": 16,
   "id": "5494544e",
   "metadata": {},
   "outputs": [
    {
     "name": "stdout",
     "output_type": "stream",
     "text": [
      "['Age', 'HeartDisease', 'Cholestrol', 'ChestPain']\n"
     ]
    }
   ],
   "source": [
    "print(model.nodes)"
   ]
  },
  {
   "cell_type": "code",
   "execution_count": 23,
   "id": "07ac8382",
   "metadata": {},
   "outputs": [],
   "source": [
    "df_renamed = df.rename(columns={\n",
    "    'age': 'Age',\n",
    "    'chol': 'Cholestrol',\n",
    "    'cp': 'ChestPain',\n",
    "    'num': 'HeartDisease'\n",
    "})\n"
   ]
  },
  {
   "cell_type": "code",
   "execution_count": 24,
   "id": "943eaeb6",
   "metadata": {},
   "outputs": [
    {
     "name": "stderr",
     "output_type": "stream",
     "text": [
      "INFO:pgmpy: Datatype (N=numerical, C=Categorical Unordered, O=Categorical Ordered) inferred from data: \n",
      " {'Age': 'N', 'sex': 'N', 'ChestPain': 'N', 'trestbps': 'N', 'Cholestrol': 'N', 'fbs': 'N', 'restecg': 'N', 'thalch': 'N', 'exang': 'N', 'oldpeak': 'N', 'slope': 'N', 'ca': 'N', 'thal': 'N', 'HeartDisease': 'N'}\n"
     ]
    },
    {
     "data": {
      "text/plain": [
       "<pgmpy.models.DiscreteBayesianNetwork.DiscreteBayesianNetwork at 0x151a4d0fd90>"
      ]
     },
     "execution_count": 24,
     "metadata": {},
     "output_type": "execute_result"
    }
   ],
   "source": [
    "model.fit(df_renamed, estimator=MaximumLikelihoodEstimator)"
   ]
  },
  {
   "cell_type": "code",
   "execution_count": 27,
   "id": "5bb05c5d",
   "metadata": {},
   "outputs": [
    {
     "name": "stdout",
     "output_type": "stream",
     "text": [
      "Enter Age category (0: <40, 1: 40-55, 2: >55): 1\n",
      "Enter Cholestrol category (0: Low, 1: Medium, 2: High): 2\n",
      "Enter ChestPain category (0: typical angina, 1: atypical angina, 2: non-anginal, 3: asymptomatic): 2\n",
      "Probability of HeartDisease level 0: 0.00%\n",
      "Probability of HeartDisease level 1: 100.00%\n",
      "Probability of HeartDisease level 2: 0.00%\n",
      "Probability of HeartDisease level 3: 0.00%\n",
      "Probability of HeartDisease level 4: 0.00%\n"
     ]
    }
   ],
   "source": [
    "from pgmpy.inference import VariableElimination\n",
    "\n",
    "\n",
    "age_input = int(input(\"Enter Age category (0: <40, 1: 40-55, 2: >55): \"))\n",
    "chol_input = int(input(\"Enter Cholestrol category (0: Low, 1: Medium, 2: High): \"))\n",
    "cp_input = int(input(\"Enter ChestPain category (0: typical angina, 1: atypical angina, 2: non-anginal, 3: asymptomatic): \"))\n",
    "\n",
    "\n",
    "inference = VariableElimination(model)\n",
    "\n",
    "\n",
    "result = inference.query(\n",
    "    variables=['HeartDisease'],\n",
    "    evidence={'Age': age_input, 'Cholestrol': chol_input, 'ChestPain': cp_input}\n",
    ")\n",
    "\n",
    "\n",
    "for state, prob in zip(result.state_names['HeartDisease'], result.values):\n",
    "    print(f\"Probability of HeartDisease level {state}: {prob:.2%}\")\n"
   ]
  },
  {
   "cell_type": "code",
   "execution_count": null,
   "id": "0a3ca3e0",
   "metadata": {},
   "outputs": [],
   "source": []
  }
 ],
 "metadata": {
  "kernelspec": {
   "display_name": "Python (myenv)",
   "language": "python",
   "name": "myenv"
  },
  "language_info": {
   "codemirror_mode": {
    "name": "ipython",
    "version": 3
   },
   "file_extension": ".py",
   "mimetype": "text/x-python",
   "name": "python",
   "nbconvert_exporter": "python",
   "pygments_lexer": "ipython3",
   "version": "3.10.16"
  }
 },
 "nbformat": 4,
 "nbformat_minor": 5
}
